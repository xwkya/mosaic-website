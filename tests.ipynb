{
 "cells": [
  {
   "cell_type": "code",
   "execution_count": 1,
   "metadata": {},
   "outputs": [
    {
     "name": "stderr",
     "output_type": "stream",
     "text": [
      "/Users/paul/Library/Python/3.8/lib/python/site-packages/torchvision/io/image.py:11: UserWarning: Failed to load image Python extension: dlopen(/Users/paul/Library/Python/3.8/lib/python/site-packages/torchvision/image.so, 0x0006): Library not loaded: @rpath/libpng16.16.dylib\n",
      "  Referenced from: /Users/paul/Library/Python/3.8/lib/python/site-packages/torchvision/image.so\n",
      "  Reason: tried: '/usr/local/lib/libpng16.16.dylib' (no such file), '/usr/lib/libpng16.16.dylib' (no such file)\n",
      "  warn(f\"Failed to load image Python extension: {e}\")\n",
      "Using cache found in /Users/paul/.cache/torch/hub/pytorch_vision_v0.10.0\n"
     ]
    }
   ],
   "source": [
    "from mosaic_maker import make_mosaic\n",
    "import cv2\n",
    "import numpy as np\n",
    "from skimage.metrics import structural_similarity as ssim\n",
    "import torch\n",
    "from torchvision import transforms\n",
    "from PIL import Image\n",
    "from torchinfo import summary\n",
    "import math\n",
    "import matplotlib.pyplot as plt\n",
    "\n",
    "model = torch.hub.load('pytorch/vision:v0.10.0', 'inception_v3', pretrained=True)\n",
    "model.eval()\n",
    "\n",
    "features = {}\n",
    "\n",
    "def get_features(name):\n",
    "    def hook(model, input, output):\n",
    "        features[name] = output.detach()\n",
    "    return hook\n",
    "\n",
    "model.avgpool.register_forward_hook(get_features('feats'))\n",
    "\n",
    "preprocess = transforms.Compose([\n",
    "    transforms.Resize(299),\n",
    "    transforms.CenterCrop(299),\n",
    "    transforms.ToTensor(),\n",
    "    transforms.Normalize(mean=[0.485, 0.456, 0.406], std=[0.229, 0.224, 0.225]),\n",
    "])\n",
    "\n",
    "def get_outputs(img):\n",
    "    img = cv2.cvtColor(img, cv2.COLOR_BGR2RGB)\n",
    "    input_image = Image.fromarray(img)\n",
    "    input_tensor = preprocess(input_image)\n",
    "    input_batch = input_tensor.unsqueeze(0)\n",
    "    with torch.no_grad():\n",
    "        output = model(input_batch)\n",
    "\n",
    "    return features['feats'].squeeze()\n",
    "\n"
   ]
  },
  {
   "cell_type": "code",
   "execution_count": 2,
   "metadata": {},
   "outputs": [
    {
     "name": "stdout",
     "output_type": "stream",
     "text": [
      "AdaptiveAvgPool2d(output_size=(1, 1))\n"
     ]
    }
   ],
   "source": [
    "print(model.avgpool)"
   ]
  },
  {
   "cell_type": "code",
   "execution_count": 3,
   "metadata": {},
   "outputs": [],
   "source": [
    "def add_grid(image, n_tiles, width):\n",
    "    w, l = image.shape[0], image.shape[1]\n",
    "    tile_size = min(w//n_tiles, l//n_tiles)\n",
    "    n_tiles_w = w//tile_size\n",
    "    n_tiles_l = l//tile_size\n",
    "\n",
    "    for i in range(n_tiles_w):\n",
    "        image[i*tile_size:i*tile_size+width, :, :] = 0\n",
    "    \n",
    "    for i in range(n_tiles_l):\n",
    "        image[:, i*tile_size:i*tile_size+width, :] = 0\n",
    "\n",
    "def resize(mosaic, size):\n",
    "    w, l = mosaic.shape[0], mosaic.shape[1]\n",
    "    if w<l:\n",
    "        ratio = size/w\n",
    "    else:\n",
    "        ratio = size/l\n",
    "    \n",
    "    l = int(ratio*l)\n",
    "    w = int(ratio*w)\n",
    "    \n",
    "    mosaic2 = cv2.resize(mosaic, (w,l), interpolation=cv2.INTER_AREA)\n",
    "    return mosaic2\n",
    "\n",
    "def evaluate_mosaic(mosaic, image, n_tiles):\n",
    "\n",
    "    #mosaic = resize(mosaic, 512.5)\n",
    "    #image = resize(image, 512.5)\n",
    "\n",
    "    mosaic_blurred = cv2.medianBlur(mosaic, 3)\n",
    "    image_blurred = cv2.medianBlur(image, 3)\n",
    "\n",
    "    #add_grid(mosaic_blurred, n_tiles, 128//n_tiles)\n",
    "    #add_grid(image_blurred, n_tiles, 128//n_tiles)\n",
    "    cv2.imwrite('grid.jpeg', mosaic_blurred)\n",
    "\n",
    "    dist = ssim(mosaic_blurred, image_blurred,channel_axis=2)\n",
    "    dist2 = 1 - np.mean(np.abs(image_blurred-mosaic_blurred))/(256)\n",
    "\n",
    "    return (1*dist+dist2)/2\n"
   ]
  },
  {
   "cell_type": "code",
   "execution_count": 8,
   "metadata": {},
   "outputs": [],
   "source": [
    "def evaluation_mixed(img, mosaic, n_tiles):\n",
    "    img = cv2.imread('image2.jpeg')\n",
    "    img = resize(img, 512.5)\n",
    "    img = cv2.medianBlur(img,3)\n",
    "    \n",
    "    img_out = get_outputs(img)\n",
    "    \n",
    "    mosaic = resize(mosaic,512.5)\n",
    "\n",
    "    mosaic = cv2.medianBlur(mosaic,3)\n",
    "    \n",
    "    eval_network = 1-torch.sum(torch.square(get_outputs(mosaic)-img_out))/800\n",
    "    eval_ssim = evaluate_mosaic(mosaic, img, n_tiles)*0.5\n",
    "\n",
    "    imp = math.exp(-n_tiles/12)\n",
    "    return (1-imp)*eval_network.item() + imp*eval_ssim"
   ]
  },
  {
   "cell_type": "code",
   "execution_count": 6,
   "metadata": {},
   "outputs": [
    {
     "name": "stdout",
     "output_type": "stream",
     "text": [
      "1 --- 0.9459594689067654 --- 0.7443568706512451 0.48722776303447957 0.501123156569619\n",
      "5 --- 0.7574651283969664 --- 0.7656426429748535 0.702340446986859 0.7176934369629973\n",
      "9 --- 0.6065306597126334 --- 0.764330267906189 0.6944025506885259 0.7219169634499613\n",
      "13 --- 0.4856717852477124 --- 0.7593953609466553 0.7147460310718247 0.7377104411962323\n",
      "17 --- 0.3888955639892229 --- 0.7584894299507141 0.6690315652246136 0.7236996631947856\n",
      "21 --- 0.3114032239145977 --- 0.7179912328720093 0.6546267644472705 0.698259333122911\n",
      "25 --- 0.24935220877729622 --- 0.7445176839828491 0.6521657231862904 0.7214895185733129\n",
      "29 --- 0.19966564006790186 --- 0.779197096824646 0.6851872992661674 0.7604265704224784\n",
      "33 --- 0.1598797460796939 --- 0.8152216076850891 0.769360187225681 0.8078892954271848\n",
      "37 --- 0.12802169265485286 --- 0.8313909769058228 0.6651600098950949 0.8101098071374564\n",
      "41 --- 0.10251175769346066 --- 0.8480157852172852 0.674200369499658 0.8301976614378517\n",
      "45 --- 0.0820849986238988 --- 0.8973819613456726 0.6895037138962037 0.8803182756898444\n",
      "49 --- 0.06572852861653047 --- 0.9220455884933472 0.7057807989302027 0.9078308220837982\n",
      "53 --- 0.05263129130194371 --- 0.924613356590271 0.849152203500574 0.9206417386600266\n",
      "57 --- 0.042143843509276406 --- 0.9635305404663086 0.833485922762303 0.9580499604485674\n",
      "61 --- 0.033746151800550364 --- 0.9635305404663086 0.833485922762303 0.9591420350564247\n"
     ]
    }
   ],
   "source": [
    "img = cv2.imread('image2.jpeg')\n",
    "img = resize(img, 512.5)\n",
    "img = cv2.medianBlur(img,3)\n",
    "img_out = get_outputs(img)\n",
    "\n",
    "ssim_h, network_h, mixed_h = [], [], []\n",
    "\n",
    "for val in range(1,65,4):\n",
    "    mosaic = resize(cv2.imread(f'mosaics/gradual/{val}_10000_gradual_upsizes.jpeg'),512.5)\n",
    "    mosaic = cv2.medianBlur(mosaic,3)\n",
    "    \n",
    "    eval_network = 1-torch.sum(torch.square(get_outputs(mosaic)-img_out))/2048\n",
    "    eval_ssim = evaluate_mosaic(mosaic, img, val) * 1.3\n",
    "\n",
    "    imp = math.exp(-val/18)\n",
    "    mixed_eval = (1-imp)*eval_network.item() + imp*eval_ssim\n",
    "\n",
    "    ssim_h.append(eval_ssim)\n",
    "    network_h.append(eval_network)\n",
    "    mixed_h.append(mixed_eval)\n",
    "\n",
    "    print(val, \"---\", imp, '---', eval_network.item(), eval_ssim, mixed_eval)\n"
   ]
  },
  {
   "cell_type": "code",
   "execution_count": 7,
   "metadata": {},
   "outputs": [
    {
     "data": {
      "text/plain": [
       "<matplotlib.legend.Legend at 0x2aa7e5f40>"
      ]
     },
     "execution_count": 7,
     "metadata": {},
     "output_type": "execute_result"
    },
    {
     "data": {
      "image/png": "[encoded data removed]",
      "text/plain": [
       "<Figure size 432x288 with 1 Axes>"
      ]
     },
     "metadata": {
      "needs_background": "light"
     },
     "output_type": "display_data"
    }
   ],
   "source": [
    "ax = plt.plot(network_h, label='network')\n",
    "plt.plot(ssim_h, label='ssim')\n",
    "plt.plot(mixed_h, label='mixed')\n",
    "plt.legend()"
   ]
  },
  {
   "cell_type": "code",
   "execution_count": 5,
   "metadata": {},
   "outputs": [
    {
     "name": "stderr",
     "output_type": "stream",
     "text": [
      "Using cache found in /Users/paul/.cache/torch/hub/pytorch_vision_v0.10.0\n",
      "Using cache found in /Users/paul/.cache/torch/hub/pytorch_vision_v0.10.0\n",
      "Using cache found in /Users/paul/.cache/torch/hub/pytorch_vision_v0.10.0\n",
      "Using cache found in /Users/paul/.cache/torch/hub/pytorch_vision_v0.10.0\n",
      "Using cache found in /Users/paul/.cache/torch/hub/pytorch_vision_v0.10.0\n",
      "Using cache found in /Users/paul/.cache/torch/hub/pytorch_vision_v0.10.0\n",
      "Using cache found in /Users/paul/.cache/torch/hub/pytorch_vision_v0.10.0\n",
      "Using cache found in /Users/paul/.cache/torch/hub/pytorch_vision_v0.10.0\n"
     ]
    },
    {
     "name": "stdout",
     "output_type": "stream",
     "text": [
      "[0.792581000766776, 0.7632107521680191, 0.7954788207958071, 0.7945177555084217, 0.7835795879364014, 0.800316572189331, 0.8091274499893188, 0.7986041903495789]\n"
     ]
    },
    {
     "data": {
      "text/plain": [
       "[<matplotlib.lines.Line2D at 0x171bd9100>]"
      ]
     },
     "execution_count": 5,
     "metadata": {},
     "output_type": "execute_result"
    },
    {
     "data": {
      "image/png": "[encoded data removed]",
      "text/plain": [
       "<Figure size 432x288 with 1 Axes>"
      ]
     },
     "metadata": {
      "needs_background": "light"
     },
     "output_type": "display_data"
    }
   ],
   "source": [
    "import pickle\n",
    "from mosaic_evaluators import network_evaluation, ssim_evaluation, mixed_evaluation\n",
    "\n",
    "\n",
    "image = cv2.imread('image2.jpeg')\n",
    "losses = []\n",
    "\n",
    "for i in range(100,801,100):\n",
    "    mosaic = cv2.imread(f\"mosaics/datalimit/32_{i}_datalimit_upsize.jpeg\")\n",
    "    losses.append(mixed_evaluation(image, mosaic, i))\n",
    "\n",
    "\n",
    "\n",
    "loss3 = losses\n",
    "print(loss3)\n",
    "plt.plot(loss3)"
   ]
  },
  {
   "cell_type": "code",
   "execution_count": 8,
   "metadata": {},
   "outputs": [
    {
     "data": {
      "image/png": "[encoded data removed]",
      "text/plain": [
       "<Figure size 432x288 with 1 Axes>"
      ]
     },
     "metadata": {
      "needs_background": "light"
     },
     "output_type": "display_data"
    }
   ],
   "source": [
    "import pickle\n",
    "import matplotlib.pyplot as plt\n",
    "\n",
    "with open('losses.pkl', 'rb') as f:\n",
    "    losses = pickle.load(f)\n",
    "\n",
    "plt.plot(list(range(100,5000,100)), losses)\n",
    "plt.savefig('eval_with_limit')"
   ]
  },
  {
   "cell_type": "code",
   "execution_count": null,
   "metadata": {},
   "outputs": [],
   "source": []
  }
 ],
 "metadata": {
  "interpreter": {
   "hash": "31f2aee4e71d21fbe5cf8b01ff0e069b9275f58929596ceb00d14d90e3e16cd6"
  },
  "kernelspec": {
   "display_name": "Python 3.8.9 64-bit",
   "language": "python",
   "name": "python3"
  },
  "language_info": {
   "codemirror_mode": {
    "name": "ipython",
    "version": 3
   },
   "file_extension": ".py",
   "mimetype": "text/x-python",
   "name": "python",
   "nbconvert_exporter": "python",
   "pygments_lexer": "ipython3",
   "version": "3.8.9"
  },
  "orig_nbformat": 4
 },
 "nbformat": 4,
 "nbformat_minor": 2
}
