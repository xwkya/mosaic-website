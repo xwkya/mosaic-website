{
 "cells": [
  {
   "cell_type": "code",
   "execution_count": 1,
   "metadata": {},
   "outputs": [
    {
     "name": "stderr",
     "output_type": "stream",
     "text": [
      "/Users/paul/Library/Python/3.8/lib/python/site-packages/torchvision/io/image.py:11: UserWarning: Failed to load image Python extension: dlopen(/Users/paul/Library/Python/3.8/lib/python/site-packages/torchvision/image.so, 0x0006): Library not loaded: @rpath/libpng16.16.dylib\n",
      "  Referenced from: /Users/paul/Library/Python/3.8/lib/python/site-packages/torchvision/image.so\n",
      "  Reason: tried: '/usr/local/lib/libpng16.16.dylib' (no such file), '/usr/lib/libpng16.16.dylib' (no such file)\n",
      "  warn(f\"Failed to load image Python extension: {e}\")\n",
      "Using cache found in /Users/paul/.cache/torch/hub/pytorch_vision_v0.10.0\n"
     ]
    }
   ],
   "source": [
    "from mosaic_maker import make_mosaic\n",
    "import cv2\n",
    "import numpy as np\n",
    "from skimage.metrics import structural_similarity as ssim\n",
    "import torch\n",
    "from torchvision import transforms\n",
    "from PIL import Image\n",
    "from torchinfo import summary\n",
    "import math\n",
    "import matplotlib.pyplot as plt\n",
    "\n",
    "model = torch.hub.load('pytorch/vision:v0.10.0', 'inception_v3', pretrained=True)\n",
    "model.eval()\n",
    "\n",
    "features = {}\n",
    "\n",
    "def get_features(name):\n",
    "    def hook(model, input, output):\n",
    "        features[name] = output.detach()\n",
    "    return hook\n",
    "\n",
    "model.avgpool.register_forward_hook(get_features('feats'))\n",
    "\n",
    "preprocess = transforms.Compose([\n",
    "    transforms.Resize(299),\n",
    "    transforms.CenterCrop(299),\n",
    "    transforms.ToTensor(),\n",
    "    transforms.Normalize(mean=[0.485, 0.456, 0.406], std=[0.229, 0.224, 0.225]),\n",
    "])\n",
    "\n",
    "def get_outputs(img):\n",
    "    img = cv2.cvtColor(img, cv2.COLOR_BGR2RGB)\n",
    "    input_image = Image.fromarray(img)\n",
    "    input_tensor = preprocess(input_image)\n",
    "    input_batch = input_tensor.unsqueeze(0)\n",
    "    with torch.no_grad():\n",
    "        output = model(input_batch)\n",
    "\n",
    "    return features['feats'].squeeze()\n",
    "\n"
   ]
  },
  {
   "cell_type": "code",
   "execution_count": 2,
   "metadata": {},
   "outputs": [
    {
     "name": "stdout",
     "output_type": "stream",
     "text": [
      "AdaptiveAvgPool2d(output_size=(1, 1))\n"
     ]
    }
   ],
   "source": [
    "print(model.avgpool)"
   ]
  },
  {
   "cell_type": "code",
   "execution_count": 3,
   "metadata": {},
   "outputs": [],
   "source": [
    "def add_grid(image, n_tiles, width):\n",
    "    w, l = image.shape[0], image.shape[1]\n",
    "    tile_size = min(w//n_tiles, l//n_tiles)\n",
    "    n_tiles_w = w//tile_size\n",
    "    n_tiles_l = l//tile_size\n",
    "\n",
    "    for i in range(n_tiles_w):\n",
    "        image[i*tile_size:i*tile_size+width, :, :] = 0\n",
    "    \n",
    "    for i in range(n_tiles_l):\n",
    "        image[:, i*tile_size:i*tile_size+width, :] = 0\n",
    "\n",
    "def resize(mosaic, size):\n",
    "    w, l = mosaic.shape[0], mosaic.shape[1]\n",
    "    if w<l:\n",
    "        ratio = size/w\n",
    "    else:\n",
    "        ratio = size/l\n",
    "    \n",
    "    l = int(ratio*l)\n",
    "    w = int(ratio*w)\n",
    "    \n",
    "    mosaic2 = cv2.resize(mosaic, (w,l), interpolation=cv2.INTER_AREA)\n",
    "    return mosaic2\n",
    "\n",
    "def evaluate_mosaic(mosaic, image, n_tiles):\n",
    "\n",
    "    #mosaic = resize(mosaic, 512.5)\n",
    "    #image = resize(image, 512.5)\n",
    "\n",
    "    mosaic_blurred = cv2.medianBlur(mosaic, 3)\n",
    "    image_blurred = cv2.medianBlur(image, 3)\n",
    "\n",
    "    #add_grid(mosaic_blurred, n_tiles, 128//n_tiles)\n",
    "    #add_grid(image_blurred, n_tiles, 128//n_tiles)\n",
    "    cv2.imwrite('grid.jpeg', mosaic_blurred)\n",
    "\n",
    "    dist = ssim(mosaic_blurred, image_blurred,channel_axis=2)\n",
    "    dist2 = 1 - np.mean(np.abs(image_blurred-mosaic_blurred))/(256)\n",
    "\n",
    "    return (1*dist+dist2)/2\n"
   ]
  },
  {
   "cell_type": "code",
   "execution_count": 8,
   "metadata": {},
   "outputs": [],
   "source": [
    "def evaluation_mixed(img, mosaic, n_tiles):\n",
    "    img = cv2.imread('image2.jpeg')\n",
    "    img = resize(img, 512.5)\n",
    "    img = cv2.medianBlur(img,3)\n",
    "    \n",
    "    img_out = get_outputs(img)\n",
    "    \n",
    "    mosaic = resize(mosaic,512.5)\n",
    "\n",
    "    mosaic = cv2.medianBlur(mosaic,3)\n",
    "    \n",
    "    eval_network = 1-torch.sum(torch.square(get_outputs(mosaic)-img_out))/800\n",
    "    eval_ssim = evaluate_mosaic(mosaic, img, n_tiles)*0.5\n",
    "\n",
    "    imp = math.exp(-n_tiles/12)\n",
    "    return (1-imp)*eval_network.item() + imp*eval_ssim"
   ]
  },
  {
   "cell_type": "code",
   "execution_count": 6,
   "metadata": {},
   "outputs": [
    {
     "name": "stdout",
     "output_type": "stream",
     "text": [
      "1 --- 0.9459594689067654 --- 0.7443568706512451 0.48722776303447957 0.501123156569619\n",
      "5 --- 0.7574651283969664 --- 0.7656426429748535 0.702340446986859 0.7176934369629973\n",
      "9 --- 0.6065306597126334 --- 0.764330267906189 0.6944025506885259 0.7219169634499613\n",
      "13 --- 0.4856717852477124 --- 0.7593953609466553 0.7147460310718247 0.7377104411962323\n",
      "17 --- 0.3888955639892229 --- 0.7584894299507141 0.6690315652246136 0.7236996631947856\n",
      "21 --- 0.3114032239145977 --- 0.7179912328720093 0.6546267644472705 0.698259333122911\n",
      "25 --- 0.24935220877729622 --- 0.7445176839828491 0.6521657231862904 0.7214895185733129\n",
      "29 --- 0.19966564006790186 --- 0.779197096824646 0.6851872992661674 0.7604265704224784\n",
      "33 --- 0.1598797460796939 --- 0.8152216076850891 0.769360187225681 0.8078892954271848\n",
      "37 --- 0.12802169265485286 --- 0.8313909769058228 0.6651600098950949 0.8101098071374564\n",
      "41 --- 0.10251175769346066 --- 0.8480157852172852 0.674200369499658 0.8301976614378517\n",
      "45 --- 0.0820849986238988 --- 0.8973819613456726 0.6895037138962037 0.8803182756898444\n",
      "49 --- 0.06572852861653047 --- 0.9220455884933472 0.7057807989302027 0.9078308220837982\n",
      "53 --- 0.05263129130194371 --- 0.924613356590271 0.849152203500574 0.9206417386600266\n",
      "57 --- 0.042143843509276406 --- 0.9635305404663086 0.833485922762303 0.9580499604485674\n",
      "61 --- 0.033746151800550364 --- 0.9635305404663086 0.833485922762303 0.9591420350564247\n"
     ]
    }
   ],
   "source": [
    "img = cv2.imread('image2.jpeg')\n",
    "img = resize(img, 512.5)\n",
    "img = cv2.medianBlur(img,3)\n",
    "img_out = get_outputs(img)\n",
    "\n",
    "ssim_h, network_h, mixed_h = [], [], []\n",
    "\n",
    "for val in range(1,65,4):\n",
    "    mosaic = resize(cv2.imread(f'mosaics/gradual/{val}_10000_gradual_upsizes.jpeg'),512.5)\n",
    "    mosaic = cv2.medianBlur(mosaic,3)\n",
    "    \n",
    "    eval_network = 1-torch.sum(torch.square(get_outputs(mosaic)-img_out))/2048\n",
    "    eval_ssim = evaluate_mosaic(mosaic, img, val) * 1.3\n",
    "\n",
    "    imp = math.exp(-val/18)\n",
    "    mixed_eval = (1-imp)*eval_network.item() + imp*eval_ssim\n",
    "\n",
    "    ssim_h.append(eval_ssim)\n",
    "    network_h.append(eval_network)\n",
    "    mixed_h.append(mixed_eval)\n",
    "\n",
    "    print(val, \"---\", imp, '---', eval_network.item(), eval_ssim, mixed_eval)\n"
   ]
  },
  {
   "cell_type": "code",
   "execution_count": 7,
   "metadata": {},
   "outputs": [
    {
     "data": {
      "text/plain": [
       "<matplotlib.legend.Legend at 0x2aa7e5f40>"
      ]
     },
     "execution_count": 7,
     "metadata": {},
     "output_type": "execute_result"
    },
    {
     "data": {
      "image/png": "[encoded data removed]",
      "text/plain": [
       "<Figure size 432x288 with 1 Axes>"
      ]
     },
     "metadata": {
      "needs_background": "light"
     },
     "output_type": "display_data"
    }
   ],
   "source": [
    "ax = plt.plot(network_h, label='network')\n",
    "plt.plot(ssim_h, label='ssim')\n",
    "plt.plot(mixed_h, label='mixed')\n",
    "plt.legend()"
   ]
  },
  {
   "cell_type": "code",
   "execution_count": 5,
   "metadata": {},
   "outputs": [
    {
     "name": "stderr",
     "output_type": "stream",
     "text": [
      "Using cache found in /Users/paul/.cache/torch/hub/pytorch_vision_v0.10.0\n",
      "Using cache found in /Users/paul/.cache/torch/hub/pytorch_vision_v0.10.0\n",
      "Using cache found in /Users/paul/.cache/torch/hub/pytorch_vision_v0.10.0\n",
      "Using cache found in /Users/paul/.cache/torch/hub/pytorch_vision_v0.10.0\n",
      "Using cache found in /Users/paul/.cache/torch/hub/pytorch_vision_v0.10.0\n",
      "Using cache found in /Users/paul/.cache/torch/hub/pytorch_vision_v0.10.0\n",
      "Using cache found in /Users/paul/.cache/torch/hub/pytorch_vision_v0.10.0\n",
      "Using cache found in /Users/paul/.cache/torch/hub/pytorch_vision_v0.10.0\n"
     ]
    },
    {
     "name": "stdout",
     "output_type": "stream",
     "text": [
      "[0.792581000766776, 0.7632107521680191, 0.7954788207958071, 0.7945177555084217, 0.7835795879364014, 0.800316572189331, 0.8091274499893188, 0.7986041903495789]\n"
     ]
    },
    {
     "data": {
      "text/plain": [
       "[<matplotlib.lines.Line2D at 0x171bd9100>]"
      ]
     },
     "execution_count": 5,
     "metadata": {},
     "output_type": "execute_result"
    },
    {
     "data": {
      "image/png": "[encoded data removed]",
      "text/plain": [
       "<Figure size 432x288 with 1 Axes>"
      ]
     },
     "metadata": {
      "needs_background": "light"
     },
     "output_type": "display_data"
    }
   ],
   "source": [
    "import pickle\n",
    "from mosaic_evaluators import network_evaluation, ssim_evaluation, mixed_evaluation\n",
    "\n",
    "\n",
    "image = cv2.imread('image2.jpeg')\n",
    "losses = []\n",
    "\n",
    "for i in range(100,801,100):\n",
    "    mosaic = cv2.imread(f\"mosaics/datalimit/32_{i}_datalimit_upsize.jpeg\")\n",
    "    losses.append(mixed_evaluation(image, mosaic, i))\n",
    "\n",
    "\n",
    "\n",
    "loss3 = losses\n",
    "print(loss3)\n",
    "plt.plot(loss3)"
   ]
  },
  {
   "cell_type": "code",
   "execution_count": 8,
   "metadata": {},
   "outputs": [
    {
     "data": {
      "image/png": "[encoded data removed]",
      "text/plain": [
       "<Figure size 432x288 with 1 Axes>"
      ]
     },
     "metadata": {
      "needs_background": "light"
     },
     "output_type": "display_data"
    }
   ],
   "source": [
    "import pickle\n",
    "import matplotlib.pyplot as plt\n",
    "\n",
    "with open('losses.pkl', 'rb') as f:\n",
    "    losses = pickle.load(f)\n",
    "\n",
    "plt.plot(list(range(100,5000,100)), losses)\n",
    "plt.savefig('eval_with_limit')"
   ]
  },
  {
   "cell_type": "code",
   "execution_count": 15,
   "metadata": {},
   "outputs": [],
   "source": [
    "from groupy.gconv.pytorch_gconv import P4MConvZ2, P4MConvP4M\n",
    "import torch\n",
    "import kornia \n",
    "\n",
    "x = torch.Tensor([[1,2,3],[4,5,6],[7,8,9]])\n",
    "\n",
    "x = x.view(1,1,3,3)\n",
    "\n",
    "layer = P4MConvZ2(1, 3, kernel_size=3, bias=False, padding=1)\n",
    "#layer.weight = torch.nn.Parameter(torch.Tensor([[1,1,0],[0,0,0],[0,0,0]]).view(1,1,1,3,3))\n",
    "#layer2 = P4MConvP4M(1, 3, kernel_size=3, bias=False, padding=1)"
   ]
  },
  {
   "cell_type": "code",
   "execution_count": 43,
   "metadata": {},
   "outputs": [
    {
     "name": "stdout",
     "output_type": "stream",
     "text": [
      "tensor([[[[1., 4., 7.],\n",
      "          [2., 5., 8.],\n",
      "          [3., 6., 9.]]]])\n",
      "tensor(4.7684e-07, grad_fn=<MaxBackward1>)\n"
     ]
    }
   ],
   "source": [
    "\n",
    "group_trans = kornia.geometry.transform.rotate\n",
    "x = torch.Tensor([[1,2,3],[4,5,6],[7,8,9]])\n",
    "\n",
    "x = x.view(1,1,3,3)\n",
    "y = layer(x).squeeze().transpose(0,1)\n",
    "\n",
    "x = kornia.geometry.transform.vflip(x)\n",
    "x = torch.rot90(x, 1, (-1,-2))\n",
    "print(x)\n",
    "\n",
    "y2 = layer(x).squeeze().transpose(0,1)\n",
    "y[4:,:,:] =kornia.geometry.transform.vflip(y[4:])\n",
    "\n",
    "y = kornia.geometry.transform.rotate(y, torch.Tensor([0,270,180,90,0,270,180,90]))\n",
    "print(torch.max(y[5] - y2[0]))"
   ]
  },
  {
   "cell_type": "code",
   "execution_count": 53,
   "metadata": {},
   "outputs": [],
   "source": [
    "import pickle\n",
    "from strategies import AverageStrategyCosineFaiss\n",
    "\n",
    "with open('name_to_index.pkl', 'rb') as f:\n",
    "    name_to_index = pickle.load(f)\n",
    "\n",
    "strat = AverageStrategyCosineFaiss(name_to_index, False)\n",
    "with open('train_data/data_1.pkl', 'rb') as f:\n",
    "    data=pickle.load(f)\n"
   ]
  },
  {
   "cell_type": "code",
   "execution_count": 54,
   "metadata": {},
   "outputs": [
    {
     "name": "stdout",
     "output_type": "stream",
     "text": [
      "[1535]\n"
     ]
    }
   ],
   "source": [
    "print(strat.find_best([data[0]]))"
   ]
  },
  {
   "cell_type": "code",
   "execution_count": 44,
   "metadata": {},
   "outputs": [
    {
     "data": {
      "text/plain": [
       "tensor([[1.],\n",
       "        [2.],\n",
       "        [3.],\n",
       "        [4.],\n",
       "        [5.],\n",
       "        [6.],\n",
       "        [7.],\n",
       "        [8.]])"
      ]
     },
     "execution_count": 44,
     "metadata": {},
     "output_type": "execute_result"
    }
   ],
   "source": [
    "# (bsz, 8, ..)\n",
    "x = torch.Tensor([[[1,2,3,4],[5,6,7,8]]])\n",
    "x.view(-1, 1)"
   ]
  },
  {
   "cell_type": "code",
   "execution_count": 47,
   "metadata": {},
   "outputs": [
    {
     "name": "stdout",
     "output_type": "stream",
     "text": [
      "((tensor(0.6010), tensor(0.6176), 0.5621830710330318), 1.5819461345672607)\n",
      "((tensor(0.6545), tensor(0.6685), 0.6217455216349093), 1.9652531147003174)\n",
      "((tensor(0.6736), tensor(0.6932), 0.6276722501684091), 2.4533591270446777)\n",
      "((tensor(0.5310), tensor(0.4881), 0.6311943360028551), 1.4602468013763428)\n",
      "((tensor(0.6163), tensor(0.6449), 0.5495081662195881), 0.865933895111084)\n",
      "((tensor(0.6510), tensor(0.6685), 0.6102144635850427), 1.2014257907867432)\n",
      "((tensor(0.6527), tensor(0.6686), 0.6157053590527928), 1.2334251403808594)\n",
      "((tensor(0.5432), tensor(0.5104), 0.6195954509757525), 0.7885468006134033)\n",
      "((tensor(0.6868), tensor(0.7113), 0.6298435710010826), 3.2742490768432617)\n",
      "((tensor(0.7181), tensor(0.7338), 0.6812489217514992), 4.536013841629028)\n",
      "((tensor(0.7503), tensor(0.7792), 0.6828191989833077), 4.989763975143433)\n",
      "((tensor(0.6645), tensor(0.6535), 0.6902400418453262), 3.1464807987213135)\n",
      "((tensor(0.6609), tensor(0.6797), 0.6169538009947457), 1.6654510498046875)\n",
      "((tensor(0.7027), tensor(0.7169), 0.6697041112436648), 2.3944027423858643)\n",
      "((tensor(0.7178), tensor(0.7380), 0.6707275951730804), 2.6820950508117676)\n",
      "((tensor(0.6523), tensor(0.6424), 0.6753120296054995), 1.652829885482788)\n",
      "((tensor(0.7404), tensor(0.7694), 0.6727082027566371), 6.106326103210449)\n",
      "((tensor(0.7744), tensor(0.7972), 0.721229989606703), 7.49962306022644)\n",
      "((tensor(0.8114), tensor(0.8551), 0.7093085613826842), 8.813124179840088)\n",
      "((tensor(0.6940), tensor(0.6819), 0.7220900299050643), 6.249509811401367)\n",
      "((tensor(0.7327), tensor(0.7629), 0.6624786048717237), 3.0085208415985107)\n",
      "((tensor(0.7703), tensor(0.7965), 0.7092127562344267), 4.063807010650635)\n",
      "((tensor(0.7931), tensor(0.8339), 0.6977206627332396), 4.6533308029174805)\n",
      "((tensor(0.6525), tensor(0.6282), 0.7092234233843099), 3.1263389587402344)\n",
      "((tensor(0.7857), tensor(0.8222), 0.7003616293501194), 9.195428848266602)\n",
      "((tensor(0.8328), tensor(0.8742), 0.7361436202800252), 11.839202642440796)\n",
      "((tensor(0.8626), tensor(0.9211), 0.7261939779718185), 14.032984972000122)\n",
      "((tensor(0.8646), tensor(0.9150), 0.7468420687521021), 9.07689094543457)\n",
      "((tensor(0.7742), tensor(0.8095), 0.6917537540209597), 4.743059873580933)\n",
      "((tensor(0.8113), tensor(0.8474), 0.7270163441258043), 5.868654251098633)\n",
      "((tensor(0.8307), tensor(0.8784), 0.7193001666435244), 6.86886191368103)\n",
      "((tensor(0.8503), tensor(0.8982), 0.7387997643512315), 4.848790884017944)\n",
      "((tensor(0.8184), tensor(0.8613), 0.7182493838887676), 13.384748935699463)\n",
      "((tensor(0.8809), tensor(0.9362), 0.7517136656901471), 17.369151830673218)\n",
      "((tensor(0.8790), tensor(0.9384), 0.7404763725843728), 19.59583592414856)\n",
      "((tensor(0.8875), tensor(0.9414), 0.7615795396920176), 13.274369955062866)\n",
      "((tensor(0.8312), tensor(0.8825), 0.7116961335809684), 7.144081115722656)\n",
      "((tensor(0.8715), tensor(0.9258), 0.744882498511537), 9.27912187576294)\n",
      "((tensor(0.8565), tensor(0.9093), 0.7334327810558973), 9.399971008300781)\n",
      "((tensor(0.8880), tensor(0.9450), 0.7548928290419216), 6.665148973464966)\n",
      "((tensor(0.8430), tensor(0.8904), 0.7324317706116169), 18.522417783737183)\n",
      "((tensor(0.9042), tensor(0.9647), 0.7631396642879913), 25.007692098617554)\n",
      "((tensor(0.8970), tensor(0.9600), 0.750191539883942), 27.383307933807373)\n",
      "((tensor(0.8997), tensor(0.9580), 0.7637418686283407), 16.512094020843506)\n",
      "((tensor(0.8376), tensor(0.8845), 0.728141857546125), 9.354701042175293)\n",
      "((tensor(0.8894), tensor(0.9456), 0.7584183361716825), 12.152601957321167)\n",
      "((tensor(0.8809), tensor(0.9392), 0.7447015629119265), 13.869375944137573)\n",
      "((tensor(0.8898), tensor(0.9456), 0.7593833086045186), 9.136252880096436)\n",
      "((tensor(0.8366), tensor(0.8773), 0.7414444701159244), 23.128232955932617)\n",
      "((tensor(0.9167), tensor(0.9806), 0.7677451919509168), 29.54548406600952)\n",
      "((tensor(0.9040), tensor(0.9662), 0.7590571325097561), 33.471853733062744)\n",
      "((tensor(0.8886), tensor(0.9415), 0.7650769645255172), 22.52190113067627)\n",
      "((tensor(0.8507), tensor(0.8995), 0.7368271679022119), 12.007114887237549)\n",
      "((tensor(0.9091), tensor(0.9715), 0.7634011019906388), 15.39069414138794)\n",
      "((tensor(0.8979), tensor(0.9592), 0.7550319534009153), 16.986082077026367)\n",
      "((tensor(0.8954), tensor(0.9526), 0.7616804511385064), 12.057009220123291)\n",
      "((tensor(0.5633), tensor(0.5678), 0.5527621086533593), 2.347846031188965)\n",
      "((tensor(0.6667), tensor(0.6868), 0.6198690681032979), 3.104236125946045)\n",
      "((tensor(0.6514), tensor(0.6606), 0.6298983644486058), 3.6213910579681396)\n",
      "((tensor(0.5232), tensor(0.4760), 0.6332592703806299), 2.2176120281219482)\n",
      "((tensor(0.5839), tensor(0.6002), 0.5458821830824445), 1.1277260780334473)\n",
      "((tensor(0.6458), tensor(0.6603), 0.6118071077294793), 1.4095771312713623)\n",
      "((tensor(0.6463), tensor(0.6583), 0.6184176299558867), 1.8008389472961426)\n",
      "((tensor(0.4887), tensor(0.4326), 0.6196801607384305), 1.1443281173706055)\n",
      "((tensor(0.6547), tensor(0.6673), 0.6254977248408018), 5.256792783737183)\n",
      "((tensor(0.7087), tensor(0.7205), 0.6809592754718672), 7.333791971206665)\n",
      "((tensor(0.7551), tensor(0.7859), 0.683328755627838), 7.461217164993286)\n",
      "((tensor(0.7186), tensor(0.7307), 0.6904937148860006), 4.962246894836426)\n",
      "((tensor(0.6551), tensor(0.6700), 0.6203197049483764), 2.605933904647827)\n",
      "((tensor(0.6964), tensor(0.7075), 0.6706231313460282), 3.158953905105591)\n",
      "((tensor(0.7041), tensor(0.7177), 0.6724207933207689), 3.471757173538208)\n",
      "((tensor(0.6588), tensor(0.6511), 0.6768614474524146), 2.530639171600342)\n",
      "((tensor(0.7535), tensor(0.7891), 0.6704391887633041), 9.024030923843384)\n",
      "((tensor(0.7669), tensor(0.7861), 0.7221882117425701), 11.692288875579834)\n",
      "((tensor(0.8208), tensor(0.8684), 0.709849569989968), 13.06371808052063)\n",
      "((tensor(0.7278), tensor(0.7307), 0.7210212376340834), 9.386202812194824)\n",
      "((tensor(0.7439), tensor(0.7778), 0.6646445261669712), 4.4823057651519775)\n",
      "((tensor(0.7895), tensor(0.8234), 0.7101829774682957), 5.724199056625366)\n",
      "((tensor(0.7653), tensor(0.7927), 0.701581552924501), 6.3815858364105225)\n",
      "((tensor(0.6854), tensor(0.6746), 0.7105238983127401), 4.446496963500977)\n",
      "((tensor(0.7821), tensor(0.8182), 0.6979574472423057), 13.514937162399292)\n",
      "((tensor(0.8266), tensor(0.8650), 0.7369830779742267), 17.495925188064575)\n",
      "((tensor(0.8472), tensor(0.8985), 0.7276369635917945), 20.323104858398438)\n",
      "((tensor(0.8640), tensor(0.9141), 0.747123089942933), 14.128507852554321)\n",
      "((tensor(0.7645), tensor(0.7948), 0.6937724695454486), 6.636677026748657)\n",
      "((tensor(0.8188), tensor(0.8574), 0.7288420151401376), 8.72048306465149)\n",
      "((tensor(0.8293), tensor(0.8761), 0.720205807541954), 9.707313776016235)\n",
      "((tensor(0.8190), tensor(0.8532), 0.7392689918933273), 7.122442007064819)\n",
      "((tensor(0.8144), tensor(0.8573), 0.7143874811673765), 19.62355899810791)\n",
      "((tensor(0.8828), tensor(0.9383), 0.7532512661005829), 26.87974190711975)\n",
      "((tensor(0.8880), tensor(0.9512), 0.7405292503503949), 29.432149171829224)\n",
      "((tensor(0.8821), tensor(0.9343), 0.7603098749537096), 20.34937286376953)\n",
      "((tensor(0.8036), tensor(0.8423), 0.7132633945400689), 9.171970844268799)\n",
      "((tensor(0.8678), tensor(0.9197), 0.7465853329860846), 12.419963359832764)\n",
      "((tensor(0.8493), tensor(0.8984), 0.7349022411051768), 13.5572190284729)\n",
      "((tensor(0.8728), tensor(0.9234), 0.7549007744037213), 9.11664605140686)\n",
      "((tensor(0.8423), tensor(0.8899), 0.7314431743370851), 27.01184391975403)\n",
      "((tensor(0.9068), tensor(0.9682), 0.7637291755632436), 36.28843116760254)\n",
      "((tensor(0.8904), tensor(0.9504), 0.7504407083949546), 39.95073413848877)\n",
      "((tensor(0.8843), tensor(0.9357), 0.764384226519427), 25.902666091918945)\n",
      "((tensor(0.8329), tensor(0.8775), 0.7287984399703432), 13.031752109527588)\n",
      "((tensor(0.9003), tensor(0.9608), 0.7589723582982113), 16.94705319404602)\n",
      "((tensor(0.8880), tensor(0.9493), 0.7451849393116055), 18.958020210266113)\n",
      "((tensor(0.8914), tensor(0.9483), 0.758615615717837), 12.12572693824768)\n",
      "((tensor(0.8312), tensor(0.8710), 0.7383997657043437), 35.41395926475525)\n",
      "((tensor(0.9139), tensor(0.9766), 0.7677350135489218), 44.94506287574768)\n",
      "((tensor(0.9039), tensor(0.9657), 0.7597696634052556), 50.33250188827515)\n",
      "((tensor(0.8938), tensor(0.9494), 0.7640276608583471), 34.933613777160645)\n",
      "((tensor(0.8379), tensor(0.8811), 0.7369651684365566), 16.616366863250732)\n",
      "((tensor(0.9100), tensor(0.9724), 0.7642623994369306), 21.38615608215332)\n",
      "((tensor(0.8978), tensor(0.9586), 0.7559441304868771), 24.826889038085938)\n",
      "((tensor(0.8947), tensor(0.9521), 0.7609024221566337), 16.93443727493286)\n"
     ]
    }
   ],
   "source": [
    "import pickle\n",
    "import os\n",
    "\n",
    "with open('evaluations/res.pkl', 'rb') as f:\n",
    "    res = pickle.load(f)\n",
    "\n",
    "res2 = {}\n",
    "for strategy_name in ['NN', 'Faiss']:\n",
    "    for num_tiles in [16,24,32,40,48,56,64]:\n",
    "        for group_transform in [True, False]:\n",
    "            t = 0\n",
    "            e = 0\n",
    "            n = 0\n",
    "            for image_name in os.listdir('evaluations/images'):\n",
    "                n+=1\n",
    "                print(res[(image_name, num_tiles, strategy_name, group_transform)])\n",
    "                eval, time = res[(image_name, num_tiles, strategy_name, group_transform)]\n",
    "                e+=eval[0].item()\n",
    "                t+=time\n",
    "            \n",
    "            res2[(num_tiles, strategy_name, group_transform)] = (e/n, t/n)\n",
    "\n",
    "with open('evaluations/res2.pkl', 'wb') as f:\n",
    "    res = pickle.dump(res2, f, -1)\n",
    "\n"
   ]
  },
  {
   "cell_type": "code",
   "execution_count": 84,
   "metadata": {},
   "outputs": [],
   "source": [
    "x=[16,24,32,40,48,56,64]\n",
    "y_f=[res2[(n_tiles, 'Faiss', True)][0] for n_tiles in x]\n",
    "time_f=[res2[(n_tiles, 'Faiss', True)][1] for n_tiles in x]\n",
    "y_nn=[res2[(n_tiles, 'NN', True)][0] for n_tiles in x]\n",
    "time_nn=[res2[(n_tiles, 'NN', True)][1] for n_tiles in x]"
   ]
  },
  {
   "cell_type": "code",
   "execution_count": 86,
   "metadata": {},
   "outputs": [
    {
     "data": {
      "text/plain": [
       "<matplotlib.legend.Legend at 0x127eddee0>"
      ]
     },
     "execution_count": 86,
     "metadata": {},
     "output_type": "execute_result"
    },
    {
     "data": {
      "image/png": "[encoded data removed]",
      "text/plain": [
       "<Figure size 432x288 with 1 Axes>"
      ]
     },
     "metadata": {
      "needs_background": "light"
     },
     "output_type": "display_data"
    }
   ],
   "source": [
    "import matplotlib.pyplot as plt\n",
    "import numpy as np\n",
    "\n",
    "plt.plot(x,y_nn,label='nn')\n",
    "plt.plot(x,y_f,label='faiss')\n",
    "plt.legend()"
   ]
  },
  {
   "cell_type": "code",
   "execution_count": 88,
   "metadata": {},
   "outputs": [
    {
     "data": {
      "text/plain": [
       "<matplotlib.legend.Legend at 0x127fb2eb0>"
      ]
     },
     "execution_count": 88,
     "metadata": {},
     "output_type": "execute_result"
    },
    {
     "data": {
      "image/png": "[encoded data removed]",
      "text/plain": [
       "<Figure size 432x288 with 1 Axes>"
      ]
     },
     "metadata": {
      "needs_background": "light"
     },
     "output_type": "display_data"
    }
   ],
   "source": [
    "plt.plot(x, time_f, label='faiss')\n",
    "plt.plot(x, time_nn, label='nn')\n",
    "plt.legend()"
   ]
  },
  {
   "cell_type": "code",
   "execution_count": 89,
   "metadata": {},
   "outputs": [
    {
     "data": {
      "text/plain": [
       "<matplotlib.legend.Legend at 0x142032070>"
      ]
     },
     "execution_count": 89,
     "metadata": {},
     "output_type": "execute_result"
    },
    {
     "data": {
      "image/png": "[encoded data removed]",
      "text/plain": [
       "<Figure size 432x288 with 1 Axes>"
      ]
     },
     "metadata": {
      "needs_background": "light"
     },
     "output_type": "display_data"
    }
   ],
   "source": [
    "plt.plot(time_f,y_f,label='faiss')\n",
    "plt.plot(time_nn,y_nn)\n",
    "plt.legend()"
   ]
  },
  {
   "cell_type": "code",
   "execution_count": null,
   "metadata": {},
   "outputs": [],
   "source": [
    "import shelve\n",
    "\n",
    "with shelve.open('train_data_augmented/dataset')"
   ]
  }
 ],
 "metadata": {
  "interpreter": {
   "hash": "31f2aee4e71d21fbe5cf8b01ff0e069b9275f58929596ceb00d14d90e3e16cd6"
  },
  "kernelspec": {
   "display_name": "Python 3.8.9 64-bit",
   "language": "python",
   "name": "python3"
  },
  "language_info": {
   "codemirror_mode": {
    "name": "ipython",
    "version": 3
   },
   "file_extension": ".py",
   "mimetype": "text/x-python",
   "name": "python",
   "nbconvert_exporter": "python",
   "pygments_lexer": "ipython3",
   "version": "3.8.9"
  },
  "orig_nbformat": 4
 },
 "nbformat": 4,
 "nbformat_minor": 2
}
